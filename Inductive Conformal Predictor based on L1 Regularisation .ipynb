{
 "cells": [
  {
   "cell_type": "markdown",
   "id": "36c6e867",
   "metadata": {},
   "source": [
    "# Q1. Load the scikit-learn version of the diabetes"
   ]
  },
  {
   "cell_type": "code",
   "execution_count": 66,
   "id": "ba2fd372",
   "metadata": {},
   "outputs": [],
   "source": [
    "import numpy as np\n",
    "from sklearn.datasets import load_diabetes\n",
    "import pandas as pd\n",
    "from sklearn.model_selection import train_test_split\n",
    "from sklearn.linear_model import LassoCV\n",
    "from matplotlib import pyplot as plt\n",
    "import math"
   ]
  },
  {
   "cell_type": "code",
   "execution_count": 67,
   "id": "97af70dd",
   "metadata": {},
   "outputs": [],
   "source": [
    "diabetes = load_diabetes()"
   ]
  },
  {
   "cell_type": "markdown",
   "id": "fc19328f",
   "metadata": {},
   "source": [
    "# Q2. Split the dataset into the training and test sets"
   ]
  },
  {
   "cell_type": "code",
   "execution_count": 68,
   "id": "b2edf7bc",
   "metadata": {},
   "outputs": [],
   "source": [
    "X = diabetes.data\n",
    "y = diabetes.target\n",
    "X_train,X_test,y_train,y_test = train_test_split(X, y, test_size = 0.25, random_state=2108)"
   ]
  },
  {
   "cell_type": "code",
   "execution_count": 69,
   "id": "f6148a0f",
   "metadata": {},
   "outputs": [
    {
     "name": "stdout",
     "output_type": "stream",
     "text": [
      " X_train Shape  (331, 10) \n",
      "\n",
      " X_test Shape  (111, 10) \n",
      "\n",
      " y_train Shape  (331,) \n",
      "\n",
      " y_test Shape  (111,)\n"
     ]
    }
   ],
   "source": [
    "print(' X_train Shape ' , X_train.shape,'\\n')\n",
    "print(' X_test Shape ' , X_test.shape,'\\n')\n",
    "print(' y_train Shape ' , y_train.shape,'\\n')\n",
    "print(' y_test Shape ' , y_test.shape)"
   ]
  },
  {
   "cell_type": "markdown",
   "id": "41fd5119",
   "metadata": {},
   "source": [
    "# Q3.1.  training and test R2 for the Lasso model using the default parameters"
   ]
  },
  {
   "cell_type": "code",
   "execution_count": 70,
   "id": "441f294c",
   "metadata": {},
   "outputs": [],
   "source": [
    "from sklearn.linear_model import Lasso"
   ]
  },
  {
   "cell_type": "code",
   "execution_count": 71,
   "id": "6b5cb849",
   "metadata": {},
   "outputs": [],
   "source": [
    "lasso = Lasso().fit(X_train,y_train)"
   ]
  },
  {
   "cell_type": "markdown",
   "id": "e197506c",
   "metadata": {},
   "source": [
    "<b> calculate training and testing R2 for Lasso using formula </b>"
   ]
  },
  {
   "cell_type": "code",
   "execution_count": 72,
   "id": "8845a633",
   "metadata": {},
   "outputs": [],
   "source": [
    "y_train_pred = lasso.predict(X_train)\n",
    "y_test_pred = lasso.predict(X_test)"
   ]
  },
  {
   "cell_type": "code",
   "execution_count": 73,
   "id": "12398480",
   "metadata": {},
   "outputs": [],
   "source": [
    "y_train_mean = np.mean(y_train)\n",
    "y_test_mean = np.mean(y_test)"
   ]
  },
  {
   "cell_type": "code",
   "execution_count": 74,
   "id": "24529fbc",
   "metadata": {},
   "outputs": [],
   "source": [
    "TSS_train = y_train - (np.ones(len(y_train)) * y_train_mean)\n",
    "TSS_train = (TSS_train)**2\n",
    "TSS_train = np.sum(TSS_train)\n",
    "TSS_test = y_test - (np.ones(len(y_test)) * y_test_mean)\n",
    "TSS_test = (TSS_test)**2\n",
    "TSS_test = np.sum(TSS_test)"
   ]
  },
  {
   "cell_type": "code",
   "execution_count": 75,
   "id": "a814fce1",
   "metadata": {},
   "outputs": [],
   "source": [
    "RSS_train = y_train - y_train_pred\n",
    "RSS_train = (RSS_train)**2\n",
    "RSS_train = np.sum(RSS_train)\n",
    "RSS_test = y_test - y_test_pred\n",
    "RSS_test = (RSS_test)**2\n",
    "RSS_test = np.sum(RSS_test)"
   ]
  },
  {
   "cell_type": "code",
   "execution_count": 76,
   "id": "9a359c20",
   "metadata": {},
   "outputs": [
    {
     "name": "stdout",
     "output_type": "stream",
     "text": [
      "Calculated Training R2 Score  :  0.39379334354927165\n",
      "Calculated Testing R2 Score :  0.28012631287817025\n"
     ]
    }
   ],
   "source": [
    "R2_train = 1- (RSS_train/TSS_train)\n",
    "print ('Calculated Training R2 Score  : ' , R2_train)\n",
    "R2_test = 1 - (RSS_test/TSS_test)\n",
    "print ('Calculated Testing R2 Score : ' , R2_test)"
   ]
  },
  {
   "cell_type": "markdown",
   "id": "037bc4ef",
   "metadata": {},
   "source": [
    "<b>Validating with in built method</b>"
   ]
  },
  {
   "cell_type": "code",
   "execution_count": 77,
   "id": "0ed3b88e",
   "metadata": {},
   "outputs": [
    {
     "name": "stdout",
     "output_type": "stream",
     "text": [
      "Training R2 Score :  0.39379334354927165\n",
      "Testing R2 Score :  0.28012631287817025\n"
     ]
    }
   ],
   "source": [
    "from sklearn.metrics import r2_score\n",
    "\n",
    "R2_train_val = r2_score(y_train,y_train_pred)\n",
    "print('Training R2 Score : ' , R2_train_val)\n",
    "R2_test_val = r2_score(y_test,y_test_pred)\n",
    "print('Testing R2 Score : ' , R2_test_val)"
   ]
  },
  {
   "cell_type": "markdown",
   "id": "b0fdec4f",
   "metadata": {},
   "source": [
    "# Q3.2. How many features does this model use? What are the names of those features ?"
   ]
  },
  {
   "cell_type": "code",
   "execution_count": 78,
   "id": "d246a886",
   "metadata": {},
   "outputs": [
    {
     "data": {
      "text/plain": [
       "array([  0.        ,  -0.        , 427.69631665,  15.4548905 ,\n",
       "         0.        ,   0.        ,  -0.        ,   0.        ,\n",
       "       295.30350565,   0.        ])"
      ]
     },
     "execution_count": 78,
     "metadata": {},
     "output_type": "execute_result"
    }
   ],
   "source": [
    "lasso.coef_"
   ]
  },
  {
   "cell_type": "markdown",
   "id": "4273cf00",
   "metadata": {},
   "source": [
    "So the no of features in each sample are 10. Out of which, the <b>coefficients are 0 for 7 features</b>. So <b>we are using 3 features</b>."
   ]
  },
  {
   "cell_type": "markdown",
   "id": "bbd44679",
   "metadata": {},
   "source": [
    "The names of all the features  in the dataset are :"
   ]
  },
  {
   "cell_type": "code",
   "execution_count": 79,
   "id": "c359f652",
   "metadata": {},
   "outputs": [
    {
     "data": {
      "text/plain": [
       "['age', 'sex', 'bmi', 'bp', 's1', 's2', 's3', 's4', 's5', 's6']"
      ]
     },
     "execution_count": 79,
     "metadata": {},
     "output_type": "execute_result"
    }
   ],
   "source": [
    "diabetes.feature_names"
   ]
  },
  {
   "cell_type": "markdown",
   "id": "75e7abdf",
   "metadata": {},
   "source": [
    "So the names of the features in use are <b> bmi,bp and s5</b>"
   ]
  },
  {
   "cell_type": "markdown",
   "id": "56667d98",
   "metadata": {},
   "source": [
    "# Q4. Load the original diabetes dataset."
   ]
  },
  {
   "cell_type": "code",
   "execution_count": 80,
   "id": "ff2755f1",
   "metadata": {},
   "outputs": [],
   "source": [
    "org_diabetes = pd.read_table('diabetes.data',header = 0, sep = '\\t')"
   ]
  },
  {
   "cell_type": "code",
   "execution_count": 81,
   "id": "e8857340",
   "metadata": {},
   "outputs": [
    {
     "data": {
      "text/html": [
       "<div>\n",
       "<style scoped>\n",
       "    .dataframe tbody tr th:only-of-type {\n",
       "        vertical-align: middle;\n",
       "    }\n",
       "\n",
       "    .dataframe tbody tr th {\n",
       "        vertical-align: top;\n",
       "    }\n",
       "\n",
       "    .dataframe thead th {\n",
       "        text-align: right;\n",
       "    }\n",
       "</style>\n",
       "<table border=\"1\" class=\"dataframe\">\n",
       "  <thead>\n",
       "    <tr style=\"text-align: right;\">\n",
       "      <th></th>\n",
       "      <th>AGE</th>\n",
       "      <th>SEX</th>\n",
       "      <th>BMI</th>\n",
       "      <th>BP</th>\n",
       "      <th>S1</th>\n",
       "      <th>S2</th>\n",
       "      <th>S3</th>\n",
       "      <th>S4</th>\n",
       "      <th>S5</th>\n",
       "      <th>S6</th>\n",
       "      <th>Y</th>\n",
       "    </tr>\n",
       "  </thead>\n",
       "  <tbody>\n",
       "    <tr>\n",
       "      <th>0</th>\n",
       "      <td>59</td>\n",
       "      <td>2</td>\n",
       "      <td>32.1</td>\n",
       "      <td>101.0</td>\n",
       "      <td>157</td>\n",
       "      <td>93.2</td>\n",
       "      <td>38.0</td>\n",
       "      <td>4.0</td>\n",
       "      <td>4.8598</td>\n",
       "      <td>87</td>\n",
       "      <td>151</td>\n",
       "    </tr>\n",
       "    <tr>\n",
       "      <th>1</th>\n",
       "      <td>48</td>\n",
       "      <td>1</td>\n",
       "      <td>21.6</td>\n",
       "      <td>87.0</td>\n",
       "      <td>183</td>\n",
       "      <td>103.2</td>\n",
       "      <td>70.0</td>\n",
       "      <td>3.0</td>\n",
       "      <td>3.8918</td>\n",
       "      <td>69</td>\n",
       "      <td>75</td>\n",
       "    </tr>\n",
       "    <tr>\n",
       "      <th>2</th>\n",
       "      <td>72</td>\n",
       "      <td>2</td>\n",
       "      <td>30.5</td>\n",
       "      <td>93.0</td>\n",
       "      <td>156</td>\n",
       "      <td>93.6</td>\n",
       "      <td>41.0</td>\n",
       "      <td>4.0</td>\n",
       "      <td>4.6728</td>\n",
       "      <td>85</td>\n",
       "      <td>141</td>\n",
       "    </tr>\n",
       "    <tr>\n",
       "      <th>3</th>\n",
       "      <td>24</td>\n",
       "      <td>1</td>\n",
       "      <td>25.3</td>\n",
       "      <td>84.0</td>\n",
       "      <td>198</td>\n",
       "      <td>131.4</td>\n",
       "      <td>40.0</td>\n",
       "      <td>5.0</td>\n",
       "      <td>4.8903</td>\n",
       "      <td>89</td>\n",
       "      <td>206</td>\n",
       "    </tr>\n",
       "  </tbody>\n",
       "</table>\n",
       "</div>"
      ],
      "text/plain": [
       "   AGE  SEX   BMI     BP   S1     S2    S3   S4      S5  S6    Y\n",
       "0   59    2  32.1  101.0  157   93.2  38.0  4.0  4.8598  87  151\n",
       "1   48    1  21.6   87.0  183  103.2  70.0  3.0  3.8918  69   75\n",
       "2   72    2  30.5   93.0  156   93.6  41.0  4.0  4.6728  85  141\n",
       "3   24    1  25.3   84.0  198  131.4  40.0  5.0  4.8903  89  206"
      ]
     },
     "execution_count": 81,
     "metadata": {},
     "output_type": "execute_result"
    }
   ],
   "source": [
    "org_diabetes.head(4)"
   ]
  },
  {
   "cell_type": "code",
   "execution_count": 82,
   "id": "fac36abd",
   "metadata": {},
   "outputs": [
    {
     "data": {
      "text/html": [
       "<div>\n",
       "<style scoped>\n",
       "    .dataframe tbody tr th:only-of-type {\n",
       "        vertical-align: middle;\n",
       "    }\n",
       "\n",
       "    .dataframe tbody tr th {\n",
       "        vertical-align: top;\n",
       "    }\n",
       "\n",
       "    .dataframe thead th {\n",
       "        text-align: right;\n",
       "    }\n",
       "</style>\n",
       "<table border=\"1\" class=\"dataframe\">\n",
       "  <thead>\n",
       "    <tr style=\"text-align: right;\">\n",
       "      <th></th>\n",
       "      <th>AGE</th>\n",
       "      <th>SEX</th>\n",
       "      <th>BMI</th>\n",
       "      <th>BP</th>\n",
       "      <th>S1</th>\n",
       "      <th>S2</th>\n",
       "      <th>S3</th>\n",
       "      <th>S4</th>\n",
       "      <th>S5</th>\n",
       "      <th>S6</th>\n",
       "      <th>Y</th>\n",
       "    </tr>\n",
       "  </thead>\n",
       "  <tbody>\n",
       "    <tr>\n",
       "      <th>count</th>\n",
       "      <td>442.000000</td>\n",
       "      <td>442.000000</td>\n",
       "      <td>442.000000</td>\n",
       "      <td>442.000000</td>\n",
       "      <td>442.000000</td>\n",
       "      <td>442.000000</td>\n",
       "      <td>442.000000</td>\n",
       "      <td>442.000000</td>\n",
       "      <td>442.000000</td>\n",
       "      <td>442.000000</td>\n",
       "      <td>442.000000</td>\n",
       "    </tr>\n",
       "    <tr>\n",
       "      <th>mean</th>\n",
       "      <td>48.518100</td>\n",
       "      <td>1.468326</td>\n",
       "      <td>26.375792</td>\n",
       "      <td>94.647014</td>\n",
       "      <td>189.140271</td>\n",
       "      <td>115.439140</td>\n",
       "      <td>49.788462</td>\n",
       "      <td>4.070249</td>\n",
       "      <td>4.641411</td>\n",
       "      <td>91.260181</td>\n",
       "      <td>152.133484</td>\n",
       "    </tr>\n",
       "    <tr>\n",
       "      <th>std</th>\n",
       "      <td>13.109028</td>\n",
       "      <td>0.499561</td>\n",
       "      <td>4.418122</td>\n",
       "      <td>13.831283</td>\n",
       "      <td>34.608052</td>\n",
       "      <td>30.413081</td>\n",
       "      <td>12.934202</td>\n",
       "      <td>1.290450</td>\n",
       "      <td>0.522391</td>\n",
       "      <td>11.496335</td>\n",
       "      <td>77.093005</td>\n",
       "    </tr>\n",
       "    <tr>\n",
       "      <th>min</th>\n",
       "      <td>19.000000</td>\n",
       "      <td>1.000000</td>\n",
       "      <td>18.000000</td>\n",
       "      <td>62.000000</td>\n",
       "      <td>97.000000</td>\n",
       "      <td>41.600000</td>\n",
       "      <td>22.000000</td>\n",
       "      <td>2.000000</td>\n",
       "      <td>3.258100</td>\n",
       "      <td>58.000000</td>\n",
       "      <td>25.000000</td>\n",
       "    </tr>\n",
       "    <tr>\n",
       "      <th>25%</th>\n",
       "      <td>38.250000</td>\n",
       "      <td>1.000000</td>\n",
       "      <td>23.200000</td>\n",
       "      <td>84.000000</td>\n",
       "      <td>164.250000</td>\n",
       "      <td>96.050000</td>\n",
       "      <td>40.250000</td>\n",
       "      <td>3.000000</td>\n",
       "      <td>4.276700</td>\n",
       "      <td>83.250000</td>\n",
       "      <td>87.000000</td>\n",
       "    </tr>\n",
       "    <tr>\n",
       "      <th>50%</th>\n",
       "      <td>50.000000</td>\n",
       "      <td>1.000000</td>\n",
       "      <td>25.700000</td>\n",
       "      <td>93.000000</td>\n",
       "      <td>186.000000</td>\n",
       "      <td>113.000000</td>\n",
       "      <td>48.000000</td>\n",
       "      <td>4.000000</td>\n",
       "      <td>4.620050</td>\n",
       "      <td>91.000000</td>\n",
       "      <td>140.500000</td>\n",
       "    </tr>\n",
       "    <tr>\n",
       "      <th>75%</th>\n",
       "      <td>59.000000</td>\n",
       "      <td>2.000000</td>\n",
       "      <td>29.275000</td>\n",
       "      <td>105.000000</td>\n",
       "      <td>209.750000</td>\n",
       "      <td>134.500000</td>\n",
       "      <td>57.750000</td>\n",
       "      <td>5.000000</td>\n",
       "      <td>4.997200</td>\n",
       "      <td>98.000000</td>\n",
       "      <td>211.500000</td>\n",
       "    </tr>\n",
       "    <tr>\n",
       "      <th>max</th>\n",
       "      <td>79.000000</td>\n",
       "      <td>2.000000</td>\n",
       "      <td>42.200000</td>\n",
       "      <td>133.000000</td>\n",
       "      <td>301.000000</td>\n",
       "      <td>242.400000</td>\n",
       "      <td>99.000000</td>\n",
       "      <td>9.090000</td>\n",
       "      <td>6.107000</td>\n",
       "      <td>124.000000</td>\n",
       "      <td>346.000000</td>\n",
       "    </tr>\n",
       "  </tbody>\n",
       "</table>\n",
       "</div>"
      ],
      "text/plain": [
       "              AGE         SEX         BMI          BP          S1          S2  \\\n",
       "count  442.000000  442.000000  442.000000  442.000000  442.000000  442.000000   \n",
       "mean    48.518100    1.468326   26.375792   94.647014  189.140271  115.439140   \n",
       "std     13.109028    0.499561    4.418122   13.831283   34.608052   30.413081   \n",
       "min     19.000000    1.000000   18.000000   62.000000   97.000000   41.600000   \n",
       "25%     38.250000    1.000000   23.200000   84.000000  164.250000   96.050000   \n",
       "50%     50.000000    1.000000   25.700000   93.000000  186.000000  113.000000   \n",
       "75%     59.000000    2.000000   29.275000  105.000000  209.750000  134.500000   \n",
       "max     79.000000    2.000000   42.200000  133.000000  301.000000  242.400000   \n",
       "\n",
       "               S3          S4          S5          S6           Y  \n",
       "count  442.000000  442.000000  442.000000  442.000000  442.000000  \n",
       "mean    49.788462    4.070249    4.641411   91.260181  152.133484  \n",
       "std     12.934202    1.290450    0.522391   11.496335   77.093005  \n",
       "min     22.000000    2.000000    3.258100   58.000000   25.000000  \n",
       "25%     40.250000    3.000000    4.276700   83.250000   87.000000  \n",
       "50%     48.000000    4.000000    4.620050   91.000000  140.500000  \n",
       "75%     57.750000    5.000000    4.997200   98.000000  211.500000  \n",
       "max     99.000000    9.090000    6.107000  124.000000  346.000000  "
      ]
     },
     "execution_count": 82,
     "metadata": {},
     "output_type": "execute_result"
    }
   ],
   "source": [
    "org_diabetes.describe()"
   ]
  },
  {
   "cell_type": "markdown",
   "id": "140abc1f",
   "metadata": {},
   "source": [
    "# Q5. Split the dataset into the training and test sets"
   ]
  },
  {
   "cell_type": "code",
   "execution_count": 83,
   "id": "5cc30ff1",
   "metadata": {},
   "outputs": [],
   "source": [
    "X = org_diabetes.loc[:, 'AGE':'S6']\n",
    "y = org_diabetes.loc[:,['Y']]"
   ]
  },
  {
   "cell_type": "code",
   "execution_count": 84,
   "id": "465e343b",
   "metadata": {},
   "outputs": [
    {
     "name": "stdout",
     "output_type": "stream",
     "text": [
      "(442, 10)\n",
      "(442, 1)\n"
     ]
    }
   ],
   "source": [
    "print(X.shape)\n",
    "print(y.shape)"
   ]
  },
  {
   "cell_type": "code",
   "execution_count": 85,
   "id": "6ae6a649",
   "metadata": {},
   "outputs": [],
   "source": [
    "X_train,X_test,y_train,y_test = train_test_split(X,y,test_size = 0.25, random_state=2108)"
   ]
  },
  {
   "cell_type": "code",
   "execution_count": 86,
   "id": "6390769e",
   "metadata": {},
   "outputs": [
    {
     "name": "stdout",
     "output_type": "stream",
     "text": [
      "Train X :  (331, 10)\n",
      "Train y :  (331, 1)\n",
      "Test X :  (111, 10)\n",
      "Test y : (111, 1)\n"
     ]
    }
   ],
   "source": [
    "print('Train X : ', X_train.shape)\n",
    "print('Train y : ', y_train.shape)\n",
    "print('Test X : ', X_test.shape)\n",
    "print('Test y :' , y_test.shape)"
   ]
  },
  {
   "cell_type": "markdown",
   "id": "22e9c83b",
   "metadata": {},
   "source": [
    "# Q6. Repeat item 3 for the current dataset. Comment on the differences from what you saw in item 3."
   ]
  },
  {
   "cell_type": "code",
   "execution_count": 87,
   "id": "b24e4acb",
   "metadata": {},
   "outputs": [],
   "source": [
    "# X_train = X_train.to_numpy()\n",
    "# y_train= y_train.to_numpy()\n",
    "# X_test = X_test.to_numpy()\n",
    "# y_test= y_test.to_numpy()\n",
    "\n",
    "lasso = Lasso().fit(X_train,y_train)\n",
    "y_train_pred = lasso.predict(X_train)\n",
    "y_test_pred = lasso.predict(X_test)"
   ]
  },
  {
   "cell_type": "code",
   "execution_count": 88,
   "id": "1d5f694b",
   "metadata": {},
   "outputs": [
    {
     "name": "stdout",
     "output_type": "stream",
     "text": [
      "Training R2 Score :  0.5323447409048088\n",
      "Testing R2 Score :  0.38155307268479044\n"
     ]
    }
   ],
   "source": [
    "R2_train_val = r2_score(y_train,y_train_pred)\n",
    "print('Training R2 Score : ' , R2_train_val)\n",
    "R2_test_val = r2_score(y_test,y_test_pred)\n",
    "print('Testing R2 Score : ' , R2_test_val)"
   ]
  },
  {
   "cell_type": "code",
   "execution_count": 89,
   "id": "a90e12b5",
   "metadata": {},
   "outputs": [
    {
     "data": {
      "text/plain": [
       "array([-1.56189252e-02, -1.42465977e+01,  6.82957494e+00,  1.00276585e+00,\n",
       "        4.52599855e-01, -6.88109074e-01, -1.24230905e+00, -0.00000000e+00,\n",
       "        2.60179400e+01,  4.66329874e-01])"
      ]
     },
     "execution_count": 89,
     "metadata": {},
     "output_type": "execute_result"
    }
   ],
   "source": [
    "lasso.coef_"
   ]
  },
  {
   "cell_type": "markdown",
   "id": "af578c51",
   "metadata": {},
   "source": [
    "The training and the testing R2 accuracy seems to <b>significantly improve</b> compared to using the sklearn diabetes dataset.\n",
    "\n",
    "<b>Imporvement in training R2 Score = .13855139735553715</b>\n",
    "\n",
    "<b>Improvement in testing R2 Score = .10142675980662019</b>\n",
    "\n",
    "Also, the <b>change in Training to Testing acccuracy, is lower : -40.5771% vs -39.5205%</b> , but very minutely.\n",
    "\n",
    "<b>This model uses all 10 available features</b>"
   ]
  },
  {
   "cell_type": "markdown",
   "id": "f7c2058d",
   "metadata": {},
   "source": [
    "# Q7. Preprocess the training and test sets in the same way and avoiding data snooping. Use StandardScaler.\n"
   ]
  },
  {
   "cell_type": "code",
   "execution_count": 90,
   "id": "53236e9c",
   "metadata": {},
   "outputs": [],
   "source": [
    "from sklearn.preprocessing import StandardScaler"
   ]
  },
  {
   "cell_type": "code",
   "execution_count": 91,
   "id": "f92bdda4",
   "metadata": {},
   "outputs": [],
   "source": [
    "scaler = StandardScaler()\n",
    "X_train = scaler.fit_transform(X_train)\n",
    "X_test = scaler.transform(X_test)"
   ]
  },
  {
   "cell_type": "markdown",
   "id": "3d9fc274",
   "metadata": {},
   "source": [
    "# Q8.1. Repeat item 3 for the current training and test sets"
   ]
  },
  {
   "cell_type": "code",
   "execution_count": 92,
   "id": "fd6a19f9",
   "metadata": {},
   "outputs": [],
   "source": [
    "lasso = Lasso().fit(X_train,y_train)\n",
    "y_train_pred = lasso.predict(X_train)\n",
    "y_test_pred = lasso.predict(X_test)"
   ]
  },
  {
   "cell_type": "code",
   "execution_count": 93,
   "id": "ba8fd094",
   "metadata": {},
   "outputs": [
    {
     "name": "stdout",
     "output_type": "stream",
     "text": [
      "Training R2 Score :  0.5363816471047519\n",
      "Testing R2 Score :  0.4017375795813014\n"
     ]
    }
   ],
   "source": [
    "R2_train_val = r2_score(y_train,y_train_pred)\n",
    "print('Training R2 Score : ' , R2_train_val)\n",
    "R2_test_val = r2_score(y_test,y_test_pred)\n",
    "print('Testing R2 Score : ' , R2_test_val)"
   ]
  },
  {
   "cell_type": "code",
   "execution_count": 94,
   "id": "a204c1c9",
   "metadata": {},
   "outputs": [
    {
     "data": {
      "text/plain": [
       "array([-0.        , -7.80426302, 29.08022962, 13.25376567, -7.57473513,\n",
       "       -0.        , -6.48461898, -0.        , 25.5278107 ,  3.90879271])"
      ]
     },
     "execution_count": 94,
     "metadata": {},
     "output_type": "execute_result"
    }
   ],
   "source": [
    "lasso.coef_"
   ]
  },
  {
   "cell_type": "markdown",
   "id": "26074be6",
   "metadata": {},
   "source": [
    "<b> The features used in this model are : 'sex', 'bmi', 'bp', 's1', 's3', 's5', 's6'</b>"
   ]
  },
  {
   "cell_type": "markdown",
   "id": "ddd0f075",
   "metadata": {},
   "source": [
    "# Q8.2. Are your current results closer to those in item 3 or item 6?"
   ]
  },
  {
   "cell_type": "markdown",
   "id": "cfd4beea",
   "metadata": {},
   "source": [
    "The current test results are closer to Q6 than to Q3. There is a slight improvement in Training R2 score and a decent increase in test accuracy, when compared to Q6 though."
   ]
  },
  {
   "cell_type": "markdown",
   "id": "b0c71170",
   "metadata": {},
   "source": [
    "# Q8.3. Notice that a priori you would expect your current results to be closer to those in item 3, since the reason for different results in items 3 and 6 was that the former were for normalized data while the latter were for the original data. Is this expectation confirmed? If not, why?"
   ]
  },
  {
   "cell_type": "markdown",
   "id": "5042be99",
   "metadata": {},
   "source": [
    "No the expectation mentioned in the question is not confirmed"
   ]
  },
  {
   "cell_type": "markdown",
   "id": "9f355742",
   "metadata": {},
   "source": [
    "In item 3, <b> The entire sklearn diabetes dataset is Normalized, from which we split for training and testing data. </b> For item 7-8, <b> only the training data is scaled, then the same scaling is applied to the test data </b>. \n",
    "\n",
    "The process adopted for <b>item 7</b> is generally a good practice as it <b> helps avoid data snooping </b>, making our model more robust and adaptive to changing sample values. Hence, the performance improves in comparison to item 3. It also highlights, that data snooping is so bad for building a model based on this practice, that a model trained on unscaled dataset performs better (item 3 vs item 6).\n",
    "\n",
    "\n",
    "It is also worth mentioning that in <b>item 3, the model only uses 3 out of 10 features</b>. This makes a very simplistic model, i.e <b>the model underfits</b>. In item 6, all the features are in use. In <b>item 8, we are using 7 out of 10 features.</b> So, our result is closer to item 6 than item 3."
   ]
  },
  {
   "cell_type": "markdown",
   "id": "65dfd89a",
   "metadata": {},
   "source": [
    "# Q9.1. Varying the regularization parameter α in the Lasso, plot the test R2 vs the number of features used (i.e., those with non-zero coefficients). Try to make your plot as pretty as possible. (Obviously, it’s subjective.) "
   ]
  },
  {
   "cell_type": "code",
   "execution_count": 95,
   "id": "fc701d29",
   "metadata": {},
   "outputs": [],
   "source": [
    "import warnings\n",
    "warnings.filterwarnings(\"ignore\")"
   ]
  },
  {
   "cell_type": "code",
   "execution_count": 96,
   "id": "1b420d3f",
   "metadata": {},
   "outputs": [
    {
     "data": {
      "image/png": "[encoded data removed]",
      "text/plain": [
       "<Figure size 432x288 with 1 Axes>"
      ]
     },
     "metadata": {
      "needs_background": "light"
     },
     "output_type": "display_data"
    }
   ],
   "source": [
    "test_R2 = []\n",
    "features_used = []\n",
    "alpha = 50\n",
    "alpha_prime = 50\n",
    "best_feature_no = 0\n",
    "for i in range (1,201):\n",
    "    lasso = Lasso(alpha = alpha,max_iter=100).fit(X_train,y_train)\n",
    "    y_test_pred = lasso.predict(X_test)\n",
    "    test_R2.append(r2_score(y_test,y_test_pred))\n",
    "    #print((r2_score(y_test,y_test_pred)), ' : ', np.sum(lasso.coef_!=0))\n",
    "    features_used.append(np.sum(lasso.coef_!=0))\n",
    "    alpha = alpha/pow(10,i/28)\n",
    "\n",
    "i = test_R2.index(max(test_R2))\n",
    "alpha_prime = alpha_prime/pow(10,(i+1))\n",
    "best_feature_no = features_used[i]\n",
    "\n",
    "plt.plot(features_used,test_R2)\n",
    "plt.xlabel('No of Features Used', fontsize = 16)\n",
    "plt.ylabel('Test R2 Score' , fontsize = 14)\n",
    "plt.show()"
   ]
  },
  {
   "cell_type": "markdown",
   "id": "050d3b79",
   "metadata": {},
   "source": [
    "# Q9.2. Which point on the curve do you prefer?"
   ]
  },
  {
   "cell_type": "code",
   "execution_count": 97,
   "id": "2af8e3f4",
   "metadata": {},
   "outputs": [
    {
     "name": "stdout",
     "output_type": "stream",
     "text": [
      "The best test R2 score is  0.40167694610193583\n",
      "The best value for alpha at best test R2 score is  5e-09\n",
      "The no of features used to achieve best test R2 score are  7\n"
     ]
    }
   ],
   "source": [
    "print('The best test R2 score is ', max(test_R2))\n",
    "print ('The best value for alpha at best test R2 score is ', alpha_prime)\n",
    "print ('The no of features used to achieve best test R2 score are ', best_feature_no)"
   ]
  },
  {
   "cell_type": "markdown",
   "id": "374408d5",
   "metadata": {},
   "source": [
    "The <b>best R2 score</b> is acheived when <b>7 out of 10 features</b> are used. So that is the point in the curve that I prefer."
   ]
  },
  {
   "cell_type": "markdown",
   "id": "d25b5fe2",
   "metadata": {},
   "source": [
    "# Q10.1. Choose the regularization parameter for the Lasso using cross-validation on the training set. \n"
   ]
  },
  {
   "cell_type": "code",
   "execution_count": 98,
   "id": "e4442874",
   "metadata": {},
   "outputs": [],
   "source": [
    "# Accuracy_score = cross_validate(lasso, X_train, y_train, cv=9,scoring='r2',return_estimator = True)"
   ]
  },
  {
   "cell_type": "code",
   "execution_count": 99,
   "id": "fc40a7b6",
   "metadata": {},
   "outputs": [],
   "source": [
    "# for key,val in Accuracy_score.items():\n",
    "#     if key == 'test_score':\n",
    "#         print(max(val))\n",
    "#     if key == 'estimator':\n",
    "#         print(val)"
   ]
  },
  {
   "cell_type": "code",
   "execution_count": 100,
   "id": "b04a0ae3",
   "metadata": {},
   "outputs": [],
   "source": [
    "l_model = LassoCV(cv = 9, random_state = 2108).fit(X_train, y_train)\n",
    "y_pred = l_model.predict(X_test)\n",
    "alpha_prime = l_model.alpha_"
   ]
  },
  {
   "cell_type": "code",
   "execution_count": 101,
   "id": "31ce7019",
   "metadata": {},
   "outputs": [
    {
     "data": {
      "text/plain": [
       "0.40155785079213535"
      ]
     },
     "execution_count": 101,
     "metadata": {},
     "output_type": "execute_result"
    }
   ],
   "source": [
    "r2_score(y_test,y_pred)"
   ]
  },
  {
   "cell_type": "markdown",
   "id": "bf8ca4ba",
   "metadata": {},
   "source": [
    "# Q10.2. Train the Lasso on the whole training set using the chosen values of the parameters"
   ]
  },
  {
   "cell_type": "code",
   "execution_count": 102,
   "id": "dabb06c7",
   "metadata": {},
   "outputs": [],
   "source": [
    "lasso = Lasso(alpha = alpha_prime).fit(X_train,y_train)\n",
    "y_train_pred = lasso.predict(X_train)\n",
    "y_test_pred = lasso.predict(X_test)"
   ]
  },
  {
   "cell_type": "code",
   "execution_count": 103,
   "id": "623a434b",
   "metadata": {},
   "outputs": [],
   "source": [
    "used_features = np.sum(lasso.coef_!=0)"
   ]
  },
  {
   "cell_type": "markdown",
   "id": "2c421b1a",
   "metadata": {},
   "source": [
    "# Q10.3. Report the resulting training and test R2 and the number of features used."
   ]
  },
  {
   "cell_type": "code",
   "execution_count": 104,
   "id": "1455a492",
   "metadata": {},
   "outputs": [
    {
     "name": "stdout",
     "output_type": "stream",
     "text": [
      "Training R2 Score :  0.5370721187774337\n",
      "Testing R2 Score :  0.40155785079213535\n",
      "Features used  7\n"
     ]
    }
   ],
   "source": [
    "R2_train_val = r2_score(y_train,y_train_pred)\n",
    "print('Training R2 Score : ' , R2_train_val)\n",
    "R2_test_val = r2_score(y_test,y_test_pred)\n",
    "print('Testing R2 Score : ' , R2_test_val)\n",
    "print ('Features used ', used_features )"
   ]
  },
  {
   "cell_type": "markdown",
   "id": "d9d546bc",
   "metadata": {},
   "source": [
    "# Implement an inductive conformal predictor as follows"
   ]
  },
  {
   "cell_type": "markdown",
   "id": "f563ec6e",
   "metadata": {},
   "source": [
    "# Q11.(a) Split the training set that you obtained in item 5 into two parts:the calibration set of size 99 and the rest of the training set (the training set proper). Use your birthday (in the format DDMM) as random_state.\n"
   ]
  },
  {
   "cell_type": "code",
   "execution_count": 105,
   "id": "524e5de3",
   "metadata": {},
   "outputs": [],
   "source": [
    "Cal_size = 99\n",
    "Train_size = 331"
   ]
  },
  {
   "cell_type": "code",
   "execution_count": 106,
   "id": "20583eab",
   "metadata": {},
   "outputs": [],
   "source": [
    "X_train,X_Cal,y_train,y_Cal = train_test_split(X_train, y_train, test_size = Cal_size/Train_size, random_state=2108)"
   ]
  },
  {
   "cell_type": "code",
   "execution_count": 107,
   "id": "4d58155d",
   "metadata": {},
   "outputs": [
    {
     "name": "stdout",
     "output_type": "stream",
     "text": [
      " X_train Shape  (232, 10) \n",
      "\n",
      " X_Cal Shape  (99, 10)\n"
     ]
    }
   ],
   "source": [
    "print(' X_train Shape ' , X_train.shape,'\\n')\n",
    "print(' X_Cal Shape ' , X_Cal.shape)"
   ]
  },
  {
   "cell_type": "markdown",
   "id": "6347dcfa",
   "metadata": {},
   "source": [
    "# Q11.(b) Preprocess the training set proper, calibration set, and test set in the same way using StandardScaler. Namely, fit the scaler to the training set proper and then use it to transform all three."
   ]
  },
  {
   "cell_type": "code",
   "execution_count": 108,
   "id": "3259c3e7",
   "metadata": {},
   "outputs": [],
   "source": [
    "scaler = StandardScaler()\n",
    "X_train = scaler.fit_transform(X_train)\n",
    "X_Cal = scaler.transform(X_Cal)\n",
    "X_test = scaler.transform(X_test)"
   ]
  },
  {
   "cell_type": "markdown",
   "id": "e222bbbc",
   "metadata": {},
   "source": [
    "# Q11. (c) Using the nonconformity measure α = |y − yˆ|, where y is the true label and ˆy is its prediction given the training set proper, for each test sample compute the prediction interval for it. Do this for significance levels 5% and 20%. For each of these significance levels compute:  The length of the prediction intervals for the test samples  The test error rate of your inductive conformal predictor. For computing the predictions ˆy, use the Lasso with parameters chosen by cross-validation on the training set proper"
   ]
  },
  {
   "cell_type": "markdown",
   "id": "6b7c7ad9",
   "metadata": {},
   "source": [
    "<b> Calculations for Significance Level 5% </b>"
   ]
  },
  {
   "cell_type": "code",
   "execution_count": 109,
   "id": "4f0af97c",
   "metadata": {},
   "outputs": [],
   "source": [
    "significance_level = 0.05"
   ]
  },
  {
   "cell_type": "code",
   "execution_count": 110,
   "id": "ece36f3e",
   "metadata": {},
   "outputs": [],
   "source": [
    "k = math.ceil((1-significance_level)*(99+1))\n",
    "k = k - 1 \n",
    "# As indexing start from 0 in python lists, not 1"
   ]
  },
  {
   "cell_type": "code",
   "execution_count": 111,
   "id": "d268d9e6",
   "metadata": {},
   "outputs": [],
   "source": [
    "lasso = Lasso(alpha = alpha_prime).fit(X_train,y_train)\n",
    "y_Cal_pred = lasso.predict(X_Cal)"
   ]
  },
  {
   "cell_type": "code",
   "execution_count": 112,
   "id": "e4833c44",
   "metadata": {},
   "outputs": [],
   "source": [
    "alpha_list = abs(y_Cal['Y'].values-y_Cal_pred)\n",
    "alpha_list = np.sort(alpha_list)"
   ]
  },
  {
   "cell_type": "code",
   "execution_count": 113,
   "id": "5ce15c73",
   "metadata": {},
   "outputs": [],
   "source": [
    "c = alpha_list[k]"
   ]
  },
  {
   "cell_type": "code",
   "execution_count": 114,
   "id": "5acd1478",
   "metadata": {},
   "outputs": [
    {
     "name": "stdout",
     "output_type": "stream",
     "text": [
      "The length of the prediction intervals for the test samples is  206.75020977361544\n"
     ]
    }
   ],
   "source": [
    "print('The length of the prediction intervals for the test samples is ', 2*c )"
   ]
  },
  {
   "cell_type": "code",
   "execution_count": 115,
   "id": "63a7a9d4",
   "metadata": {},
   "outputs": [],
   "source": [
    "upper_bound = np.ones(len(y_test))*c+ lasso.predict(X_test)"
   ]
  },
  {
   "cell_type": "code",
   "execution_count": 116,
   "id": "b54c2ee7",
   "metadata": {},
   "outputs": [],
   "source": [
    "lower_bound = lasso.predict(X_test)-np.ones(len(y_test))*c"
   ]
  },
  {
   "cell_type": "code",
   "execution_count": 117,
   "id": "72f05c66",
   "metadata": {},
   "outputs": [],
   "source": [
    "ER_list = []\n",
    "y_test = y_test['Y'].values\n",
    "for i in range (len(y_test)):\n",
    "    if y_test[i] >= lower_bound[i] and y_test[i] <= upper_bound[i]:\n",
    "        ER_list.append(0)\n",
    "    else:\n",
    "        ER_list.append(1)\n",
    "\n",
    "Test_Error_Rate = sum(ER_list)/len(ER_list)"
   ]
  },
  {
   "cell_type": "code",
   "execution_count": 118,
   "id": "11cf612f",
   "metadata": {},
   "outputs": [
    {
     "name": "stdout",
     "output_type": "stream",
     "text": [
      "The Test Error Rate for Inductive Conformal Predictor at 5% significance level is  0.07207207207207207\n"
     ]
    }
   ],
   "source": [
    "print( 'The Test Error Rate for Inductive Conformal Predictor at 5% significance level is ', Test_Error_Rate)"
   ]
  },
  {
   "cell_type": "markdown",
   "id": "6fbf2576",
   "metadata": {},
   "source": [
    "<b> Calculations for Significance Level 20% </b>"
   ]
  },
  {
   "cell_type": "code",
   "execution_count": 119,
   "id": "c461f1a0",
   "metadata": {},
   "outputs": [],
   "source": [
    "significance_level = 0.2"
   ]
  },
  {
   "cell_type": "code",
   "execution_count": 120,
   "id": "8482bb55",
   "metadata": {},
   "outputs": [],
   "source": [
    "k = math.ceil((1-significance_level)*(99+1))\n",
    "k = k-1"
   ]
  },
  {
   "cell_type": "code",
   "execution_count": 121,
   "id": "be1f9133",
   "metadata": {},
   "outputs": [],
   "source": [
    "lasso = Lasso(alpha = alpha_prime).fit(X_train,y_train)\n",
    "y_Cal_pred = lasso.predict(X_Cal)"
   ]
  },
  {
   "cell_type": "code",
   "execution_count": 122,
   "id": "4d274a44",
   "metadata": {},
   "outputs": [],
   "source": [
    "alpha_list = abs(y_Cal['Y'].values-y_Cal_pred)\n",
    "alpha_list = np.sort(alpha_list)"
   ]
  },
  {
   "cell_type": "code",
   "execution_count": 123,
   "id": "6d0d4bce",
   "metadata": {},
   "outputs": [],
   "source": [
    "c = alpha_list[k]"
   ]
  },
  {
   "cell_type": "code",
   "execution_count": 124,
   "id": "9f5366af",
   "metadata": {},
   "outputs": [
    {
     "name": "stdout",
     "output_type": "stream",
     "text": [
      "The length of the prediction intervals for the test samples is  133.27962509226228\n"
     ]
    }
   ],
   "source": [
    "print('The length of the prediction intervals for the test samples is ', 2*c )"
   ]
  },
  {
   "cell_type": "code",
   "execution_count": 125,
   "id": "1b9a6ec9",
   "metadata": {},
   "outputs": [],
   "source": [
    "upper_bound = np.ones(len(y_test))*c+ lasso.predict(X_test)"
   ]
  },
  {
   "cell_type": "code",
   "execution_count": 126,
   "id": "df925712",
   "metadata": {},
   "outputs": [],
   "source": [
    "lower_bound = lasso.predict(X_test)-np.ones(len(y_test))*c"
   ]
  },
  {
   "cell_type": "code",
   "execution_count": 127,
   "id": "61a16489",
   "metadata": {},
   "outputs": [],
   "source": [
    "ER_list = []\n",
    "for i in range (len(y_test)):\n",
    "    if y_test[i] >= lower_bound[i] and y_test[i] <= upper_bound[i]:\n",
    "        ER_list.append(0)\n",
    "    else:\n",
    "        ER_list.append(1)\n",
    "\n",
    "Test_Error_Rate = sum(ER_list)/len(ER_list)"
   ]
  },
  {
   "cell_type": "code",
   "execution_count": 128,
   "id": "5e1c6333",
   "metadata": {},
   "outputs": [
    {
     "name": "stdout",
     "output_type": "stream",
     "text": [
      "The Test Error Rate for Inductive Conformal Predictor at 5% significance level is  0.24324324324324326\n"
     ]
    }
   ],
   "source": [
    "print( 'The Test Error Rate for Inductive Conformal Predictor at 5% significance level is ', Test_Error_Rate)"
   ]
  },
  {
   "cell_type": "markdown",
   "id": "2a657fc2",
   "metadata": {},
   "source": [
    "For Significance level 5%, \n",
    "\n",
    "1. The length of the prediction intervals are 206.75020977361544. \n",
    "2. The test error rate of inductive conformal predictors is 0.07207207207207207\n",
    "\n",
    "For Significance level 20%,\n",
    "\n",
    "1. The length of the prediction intervals are 133.27962509226228. \n",
    "2. The test error rate of inductive conformal predictors is 0.24324324324324326"
   ]
  },
  {
   "cell_type": "code",
   "execution_count": null,
   "id": "f177c378",
   "metadata": {},
   "outputs": [],
   "source": []
  }
 ],
 "metadata": {
  "kernelspec": {
   "display_name": "Python 3 (ipykernel)",
   "language": "python",
   "name": "python3"
  },
  "language_info": {
   "codemirror_mode": {
    "name": "ipython",
    "version": 3
   },
   "file_extension": ".py",
   "mimetype": "text/x-python",
   "name": "python",
   "nbconvert_exporter": "python",
   "pygments_lexer": "ipython3",
   "version": "3.9.12"
  }
 },
 "nbformat": 4,
 "nbformat_minor": 5
}
